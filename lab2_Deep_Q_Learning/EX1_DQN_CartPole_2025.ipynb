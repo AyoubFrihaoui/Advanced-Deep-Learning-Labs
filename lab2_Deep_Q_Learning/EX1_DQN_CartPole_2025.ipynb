{
 "cells": [
  {
   "cell_type": "code",
   "execution_count": 1,
   "metadata": {
    "colab": {
     "base_uri": "https://localhost:8080/"
    },
    "id": "mYu0OlZ6sK7d",
    "is_executing": true,
    "outputId": "24df717b-5fdb-4c5b-a14f-a06e4002aea7"
   },
   "outputs": [
    {
     "name": "stdout",
     "output_type": "stream",
     "text": [
      "Requirement already satisfied: gymnasium in c:\\users\\friha\\.conda\\envs\\advanceddl\\lib\\site-packages (1.0.0)\n",
      "Requirement already satisfied: numpy>=1.21.0 in c:\\users\\friha\\.conda\\envs\\advanceddl\\lib\\site-packages (from gymnasium) (2.1.2)\n",
      "Requirement already satisfied: cloudpickle>=1.2.0 in c:\\users\\friha\\.conda\\envs\\advanceddl\\lib\\site-packages (from gymnasium) (3.1.0)\n",
      "Requirement already satisfied: typing-extensions>=4.3.0 in c:\\users\\friha\\.conda\\envs\\advanceddl\\lib\\site-packages (from gymnasium) (4.12.2)\n",
      "Requirement already satisfied: farama-notifications>=0.0.1 in c:\\users\\friha\\.conda\\envs\\advanceddl\\lib\\site-packages (from gymnasium) (0.0.4)\n",
      "Note: you may need to restart the kernel to use updated packages.\n"
     ]
    }
   ],
   "source": [
    "%pip install gymnasium"
   ]
  },
  {
   "cell_type": "code",
   "execution_count": 3,
   "metadata": {},
   "outputs": [
    {
     "name": "stdout",
     "output_type": "stream",
     "text": [
      "Collecting torch\n",
      "  Downloading torch-2.5.1-cp310-cp310-win_amd64.whl.metadata (28 kB)\n",
      "Collecting filelock (from torch)\n",
      "  Using cached filelock-3.16.1-py3-none-any.whl.metadata (2.9 kB)\n",
      "Requirement already satisfied: typing-extensions>=4.8.0 in c:\\users\\friha\\.conda\\envs\\advanceddl\\lib\\site-packages (from torch) (4.12.2)\n",
      "Collecting networkx (from torch)\n",
      "  Using cached networkx-3.4.2-py3-none-any.whl.metadata (6.3 kB)\n",
      "Requirement already satisfied: jinja2 in c:\\users\\friha\\.conda\\envs\\advanceddl\\lib\\site-packages (from torch) (3.1.4)\n",
      "Collecting fsspec (from torch)\n",
      "  Using cached fsspec-2024.10.0-py3-none-any.whl.metadata (11 kB)\n",
      "Collecting sympy==1.13.1 (from torch)\n",
      "  Using cached sympy-1.13.1-py3-none-any.whl.metadata (12 kB)\n",
      "Collecting mpmath<1.4,>=1.1.0 (from sympy==1.13.1->torch)\n",
      "  Using cached mpmath-1.3.0-py3-none-any.whl.metadata (8.6 kB)\n",
      "Requirement already satisfied: MarkupSafe>=2.0 in c:\\users\\friha\\.conda\\envs\\advanceddl\\lib\\site-packages (from jinja2->torch) (3.0.1)\n",
      "Downloading torch-2.5.1-cp310-cp310-win_amd64.whl (203.1 MB)\n",
      "   ---------------------------------------- 0.0/203.1 MB ? eta -:--:--\n",
      "   ---------------------------------------- 0.3/203.1 MB ? eta -:--:--\n",
      "   ---------------------------------------- 0.5/203.1 MB 1.3 MB/s eta 0:02:37\n",
      "   ---------------------------------------- 0.8/203.1 MB 1.6 MB/s eta 0:02:07\n",
      "   ---------------------------------------- 1.3/203.1 MB 1.7 MB/s eta 0:02:01\n",
      "   ---------------------------------------- 1.3/203.1 MB 1.7 MB/s eta 0:02:01\n",
      "   ---------------------------------------- 1.8/203.1 MB 1.5 MB/s eta 0:02:12\n",
      "   ---------------------------------------- 2.4/203.1 MB 1.6 MB/s eta 0:02:05\n",
      "    --------------------------------------- 2.6/203.1 MB 1.6 MB/s eta 0:02:07\n",
      "    --------------------------------------- 3.1/203.1 MB 1.7 MB/s eta 0:01:56\n",
      "    --------------------------------------- 3.7/203.1 MB 1.8 MB/s eta 0:01:53\n",
      "    --------------------------------------- 4.2/203.1 MB 1.9 MB/s eta 0:01:48\n",
      "    --------------------------------------- 5.0/203.1 MB 2.1 MB/s eta 0:01:36\n",
      "   - -------------------------------------- 5.2/203.1 MB 2.1 MB/s eta 0:01:36\n",
      "   - -------------------------------------- 5.8/203.1 MB 2.0 MB/s eta 0:01:39\n",
      "   - -------------------------------------- 7.1/203.1 MB 2.3 MB/s eta 0:01:27\n",
      "   - -------------------------------------- 8.4/203.1 MB 2.5 MB/s eta 0:01:17\n",
      "   - -------------------------------------- 9.7/203.1 MB 2.7 MB/s eta 0:01:11\n",
      "   -- ------------------------------------- 11.0/203.1 MB 3.0 MB/s eta 0:01:04\n",
      "   -- ------------------------------------- 12.6/203.1 MB 3.2 MB/s eta 0:01:00\n",
      "   -- ------------------------------------- 14.9/203.1 MB 3.6 MB/s eta 0:00:53\n",
      "   --- ------------------------------------ 16.5/203.1 MB 3.8 MB/s eta 0:00:50\n",
      "   --- ------------------------------------ 18.9/203.1 MB 4.2 MB/s eta 0:00:45\n",
      "   --- ------------------------------------ 19.9/203.1 MB 4.2 MB/s eta 0:00:44\n",
      "   ---- ----------------------------------- 21.2/203.1 MB 4.3 MB/s eta 0:00:43\n",
      "   ---- ----------------------------------- 22.3/203.1 MB 4.3 MB/s eta 0:00:43\n",
      "   ---- ----------------------------------- 24.1/203.1 MB 4.5 MB/s eta 0:00:40\n",
      "   ----- ---------------------------------- 25.4/203.1 MB 4.6 MB/s eta 0:00:39\n",
      "   ----- ---------------------------------- 27.3/203.1 MB 4.7 MB/s eta 0:00:38\n",
      "   ----- ---------------------------------- 29.6/203.1 MB 4.9 MB/s eta 0:00:36\n",
      "   ------ --------------------------------- 31.5/203.1 MB 5.1 MB/s eta 0:00:34\n",
      "   ------ --------------------------------- 33.3/203.1 MB 5.1 MB/s eta 0:00:34\n",
      "   ------- -------------------------------- 35.7/203.1 MB 5.3 MB/s eta 0:00:32\n",
      "   ------- -------------------------------- 37.5/203.1 MB 5.5 MB/s eta 0:00:31\n",
      "   ------- -------------------------------- 38.8/203.1 MB 5.5 MB/s eta 0:00:31\n",
      "   ------- -------------------------------- 39.6/203.1 MB 5.4 MB/s eta 0:00:31\n",
      "   -------- ------------------------------- 41.4/203.1 MB 5.5 MB/s eta 0:00:30\n",
      "   -------- ------------------------------- 43.3/203.1 MB 5.6 MB/s eta 0:00:29\n",
      "   -------- ------------------------------- 44.6/203.1 MB 5.6 MB/s eta 0:00:29\n",
      "   --------- ------------------------------ 46.9/203.1 MB 5.8 MB/s eta 0:00:27\n",
      "   --------- ------------------------------ 48.0/203.1 MB 5.8 MB/s eta 0:00:27\n",
      "   --------- ------------------------------ 50.3/203.1 MB 5.9 MB/s eta 0:00:26\n",
      "   ---------- ----------------------------- 53.0/203.1 MB 6.0 MB/s eta 0:00:25\n",
      "   ---------- ----------------------------- 54.3/203.1 MB 6.1 MB/s eta 0:00:25\n",
      "   ----------- ---------------------------- 56.1/203.1 MB 6.2 MB/s eta 0:00:24\n",
      "   ----------- ---------------------------- 58.2/203.1 MB 6.2 MB/s eta 0:00:24\n",
      "   ----------- ---------------------------- 59.5/203.1 MB 6.2 MB/s eta 0:00:24\n",
      "   ------------ --------------------------- 61.9/203.1 MB 6.3 MB/s eta 0:00:23\n",
      "   ------------ --------------------------- 64.5/203.1 MB 6.4 MB/s eta 0:00:22\n",
      "   ------------- -------------------------- 66.6/203.1 MB 6.5 MB/s eta 0:00:21\n",
      "   ------------- -------------------------- 69.2/203.1 MB 6.6 MB/s eta 0:00:21\n",
      "   -------------- ------------------------- 71.8/203.1 MB 6.7 MB/s eta 0:00:20\n",
      "   -------------- ------------------------- 72.6/203.1 MB 6.7 MB/s eta 0:00:20\n",
      "   -------------- ------------------------- 73.9/203.1 MB 6.7 MB/s eta 0:00:20\n",
      "   --------------- ------------------------ 76.5/203.1 MB 6.8 MB/s eta 0:00:19\n",
      "   --------------- ------------------------ 79.4/203.1 MB 6.9 MB/s eta 0:00:18\n",
      "   ---------------- ----------------------- 82.1/203.1 MB 7.0 MB/s eta 0:00:18\n",
      "   ---------------- ----------------------- 84.9/203.1 MB 7.1 MB/s eta 0:00:17\n",
      "   ---------------- ----------------------- 85.7/203.1 MB 7.1 MB/s eta 0:00:17\n",
      "   ----------------- ---------------------- 88.3/203.1 MB 7.2 MB/s eta 0:00:16\n",
      "   ----------------- ---------------------- 91.2/203.1 MB 7.3 MB/s eta 0:00:16\n",
      "   ------------------ --------------------- 92.3/203.1 MB 7.3 MB/s eta 0:00:16\n",
      "   ------------------ --------------------- 94.4/203.1 MB 7.3 MB/s eta 0:00:15\n",
      "   ------------------- -------------------- 97.0/203.1 MB 7.4 MB/s eta 0:00:15\n",
      "   ------------------- -------------------- 98.6/203.1 MB 7.4 MB/s eta 0:00:15\n",
      "   ------------------- -------------------- 100.9/203.1 MB 7.4 MB/s eta 0:00:14\n",
      "   -------------------- ------------------- 103.3/203.1 MB 7.5 MB/s eta 0:00:14\n",
      "   -------------------- ------------------- 105.4/203.1 MB 7.6 MB/s eta 0:00:13\n",
      "   --------------------- ------------------ 107.7/203.1 MB 7.6 MB/s eta 0:00:13\n",
      "   --------------------- ------------------ 110.4/203.1 MB 7.7 MB/s eta 0:00:13\n",
      "   ---------------------- ----------------- 112.5/203.1 MB 7.7 MB/s eta 0:00:12\n",
      "   ---------------------- ----------------- 115.1/203.1 MB 7.8 MB/s eta 0:00:12\n",
      "   ----------------------- ---------------- 118.0/203.1 MB 7.8 MB/s eta 0:00:11\n",
      "   ----------------------- ---------------- 120.3/203.1 MB 7.9 MB/s eta 0:00:11\n",
      "   ------------------------ --------------- 122.4/203.1 MB 7.9 MB/s eta 0:00:11\n",
      "   ------------------------ --------------- 125.3/203.1 MB 8.0 MB/s eta 0:00:10\n",
      "   ------------------------- -------------- 127.9/203.1 MB 8.1 MB/s eta 0:00:10\n",
      "   ------------------------- -------------- 130.5/203.1 MB 8.1 MB/s eta 0:00:09\n",
      "   -------------------------- ------------- 132.1/203.1 MB 8.1 MB/s eta 0:00:09\n",
      "   -------------------------- ------------- 135.0/203.1 MB 8.2 MB/s eta 0:00:09\n",
      "   --------------------------- ------------ 137.6/203.1 MB 8.2 MB/s eta 0:00:08\n",
      "   --------------------------- ------------ 140.5/203.1 MB 8.3 MB/s eta 0:00:08\n",
      "   ---------------------------- ----------- 142.3/203.1 MB 8.3 MB/s eta 0:00:08\n",
      "   ---------------------------- ----------- 145.2/203.1 MB 8.4 MB/s eta 0:00:07\n",
      "   ----------------------------- ---------- 147.3/203.1 MB 8.4 MB/s eta 0:00:07\n",
      "   ----------------------------- ---------- 149.7/203.1 MB 8.4 MB/s eta 0:00:07\n",
      "   ----------------------------- ---------- 151.3/203.1 MB 8.4 MB/s eta 0:00:07\n",
      "   ----------------------------- ---------- 152.3/203.1 MB 8.4 MB/s eta 0:00:07\n",
      "   ------------------------------ --------- 154.9/203.1 MB 8.4 MB/s eta 0:00:06\n",
      "   ------------------------------ --------- 157.3/203.1 MB 8.5 MB/s eta 0:00:06\n",
      "   ------------------------------- -------- 159.6/203.1 MB 8.5 MB/s eta 0:00:06\n",
      "   ------------------------------- -------- 161.7/203.1 MB 8.5 MB/s eta 0:00:05\n",
      "   -------------------------------- ------- 164.4/203.1 MB 8.5 MB/s eta 0:00:05\n",
      "   -------------------------------- ------- 165.9/203.1 MB 8.6 MB/s eta 0:00:05\n",
      "   --------------------------------- ------ 168.6/203.1 MB 8.6 MB/s eta 0:00:05\n",
      "   --------------------------------- ------ 171.4/203.1 MB 8.6 MB/s eta 0:00:04\n",
      "   ---------------------------------- ----- 174.3/203.1 MB 8.7 MB/s eta 0:00:04\n",
      "   ---------------------------------- ----- 176.2/203.1 MB 8.7 MB/s eta 0:00:04\n",
      "   ----------------------------------- ---- 178.8/203.1 MB 8.7 MB/s eta 0:00:03\n",
      "   ----------------------------------- ---- 180.6/203.1 MB 8.7 MB/s eta 0:00:03\n",
      "   ------------------------------------ --- 183.0/203.1 MB 8.7 MB/s eta 0:00:03\n",
      "   ------------------------------------ --- 185.3/203.1 MB 8.8 MB/s eta 0:00:03\n",
      "   ------------------------------------- -- 188.0/203.1 MB 8.8 MB/s eta 0:00:02\n",
      "   ------------------------------------- -- 190.6/203.1 MB 8.8 MB/s eta 0:00:02\n",
      "   ------------------------------------- -- 192.7/203.1 MB 8.8 MB/s eta 0:00:02\n",
      "   -------------------------------------- - 195.3/203.1 MB 8.9 MB/s eta 0:00:01\n",
      "   -------------------------------------- - 197.7/203.1 MB 8.9 MB/s eta 0:00:01\n",
      "   ---------------------------------------  200.5/203.1 MB 8.9 MB/s eta 0:00:01\n",
      "   ---------------------------------------  202.9/203.1 MB 9.0 MB/s eta 0:00:01\n",
      "   ---------------------------------------  202.9/203.1 MB 9.0 MB/s eta 0:00:01\n",
      "   ---------------------------------------  202.9/203.1 MB 9.0 MB/s eta 0:00:01\n",
      "   ---------------------------------------- 203.1/203.1 MB 8.8 MB/s eta 0:00:00\n",
      "Using cached sympy-1.13.1-py3-none-any.whl (6.2 MB)\n",
      "Using cached filelock-3.16.1-py3-none-any.whl (16 kB)\n",
      "Using cached fsspec-2024.10.0-py3-none-any.whl (179 kB)\n",
      "Using cached networkx-3.4.2-py3-none-any.whl (1.7 MB)\n",
      "Using cached mpmath-1.3.0-py3-none-any.whl (536 kB)\n",
      "Installing collected packages: mpmath, sympy, networkx, fsspec, filelock, torch\n",
      "Successfully installed filelock-3.16.1 fsspec-2024.10.0 mpmath-1.3.0 networkx-3.4.2 sympy-1.13.1 torch-2.5.1\n",
      "Note: you may need to restart the kernel to use updated packages.\n"
     ]
    }
   ],
   "source": [
    "%pip install torch"
   ]
  },
  {
   "cell_type": "code",
   "execution_count": 4,
   "metadata": {
    "id": "VpsHzyWmseVk",
    "is_executing": true
   },
   "outputs": [],
   "source": [
    "import gymnasium as gym\n",
    "import numpy as np\n",
    "import pandas as pd\n",
    "import matplotlib.pyplot as plt\n",
    "from collections import deque\n",
    "import random\n",
    "from tqdm import tqdm\n",
    "\n",
    "import torch\n",
    "from torch import nn\n",
    "import torch.nn.functional as F\n",
    "import torch.optim as optim\n"
   ]
  },
  {
   "cell_type": "code",
   "execution_count": 5,
   "metadata": {
    "id": "cQJgkAMMsEoK"
   },
   "outputs": [],
   "source": [
    "device = torch.device(\"cuda:0\" if torch.cuda.is_available() else \"cpu\")"
   ]
  },
  {
   "cell_type": "code",
   "execution_count": 6,
   "metadata": {
    "id": "jQk7LBu5s3yo"
   },
   "outputs": [],
   "source": [
    "# Define model\n",
    "class QNetwork(nn.Module):\n",
    "\n",
    "    def __init__(self, state_shape, h1_nodes, action_space_size, seed):\n",
    "        \"\"\" state_shape (int): Dimension of each state\n",
    "            h1_nodes (int): Number of nodes in first hidden layer\n",
    "            action_space_size (int): Dimension of each action\n",
    "            seed (int): Random seed\n",
    "        \"\"\"\n",
    "        super(QNetwork, self).__init__()\n",
    "        self.seed = torch.manual_seed(seed)\n",
    "         ## add three fully connected layers using nn.Linear()\n",
    "         #-----------------add code here-----------------------\n",
    "        self.fc1 = nn.Linear(state_shape, h1_nodes)\n",
    "        self.fc2 = nn.Linear(h1_nodes, h1_nodes)  # Adding a second hidden layer\n",
    "        self.fc3 = nn.Linear(h1_nodes, action_space_size)\n",
    "\n",
    "\n",
    "    def forward(self, state):\n",
    "      # define the forward propagation  by adding the relu() activation function between layers\n",
    "      #-----------------add code here----------------------- \n",
    "      x = F.relu(self.fc1(state))\n",
    "      x = F.relu(self.fc2(x))  # Applying ReLU to the second hidden layer\n",
    "      x = self.fc3(x)  # Output layer (no activation for Q-values)\n",
    "      return x"
   ]
  },
  {
   "cell_type": "code",
   "execution_count": 7,
   "metadata": {
    "id": "W2a1w61qtpWV"
   },
   "outputs": [],
   "source": [
    "# Define memory for Experience Replay\n",
    "class ReplayMemory():\n",
    "    def __init__(self, maxlen, batch_size):\n",
    "        self.memory = deque([], maxlen=maxlen)\n",
    "        self.batch_size = batch_size\n",
    "\n",
    "    def append(self, experience):\n",
    "        self.memory.append(experience)\n",
    "\n",
    "    def sample(self):\n",
    "        #Randomly sample a batch of experiences from memory \n",
    "        #-----------------add code here-----------------------\n",
    "        batch_size = min(self.batch_size, len(self.memory))  # Handle case where memory is smaller than batch size\n",
    "        experiences = random.sample(self.memory, k=batch_size)\n",
    "        return experiences #Return the sampled experiences\n",
    "\n",
    "    def __len__(self):\n",
    "        return len(self.memory)"
   ]
  },
  {
   "cell_type": "code",
   "execution_count": 29,
   "metadata": {
    "id": "YbRg16A-uGjZ"
   },
   "outputs": [],
   "source": [
    "#Define the Deep QLearning Agent\n",
    "class DQAgent():\n",
    "        \"\"\"Interacts with and learns from the environment.\"\"\"\n",
    "\n",
    "        def __init__(self, state_shape, action_space_size, seed, h1_nodes=64, learning_rate=5e-4, replay_memory_size=int(1e5),batch_size=64, UPDATE_EVERY=20, LEARN_EVERY=4,GAMMA=0.99):\n",
    "           \"\"\"Initialize an Agent object. \"\"\"\n",
    "\n",
    "           self.state_shape = state_shape\n",
    "           self.action_space_size = action_space_size\n",
    "           self.seed = random.seed(seed)\n",
    "           self.GAMMA = GAMMA\n",
    "           self.UPDATE_EVERY = UPDATE_EVERY\n",
    "           self.LERN_EVERY = LEARN_EVERY\n",
    "           self.h1_nodes = h1_nodes\n",
    "           self.learning_rate = learning_rate\n",
    "           self.batch_size = batch_size\n",
    "           self.replay_memory_size = replay_memory_size\n",
    "\n",
    "\n",
    "           # Q-Network\n",
    "           # create the local and the target networks\n",
    "           self.local_dqn = QNetwork(state_shape, h1_nodes, action_space_size, seed).to(device) #--add code here---\n",
    "           self.target_dqn = QNetwork(state_shape, h1_nodes, action_space_size, seed).to(device) #--add code here---\n",
    "\n",
    "           self.optimizer = optim.Adam(self.local_dqn.parameters(), lr=self.learning_rate)\n",
    "\n",
    "           # Replay memory\n",
    "           self.memory = ReplayMemory( self.replay_memory_size,self.batch_size)\n",
    "\n",
    "           # Initialize time step (for learn every LEARN_EVERY steps)\n",
    "           self.l_step = 0\n",
    "\n",
    "           # Initialize time step (for updating every UPDATE_EVERY steps)\n",
    "           self.t_step = 0\n",
    "            \n",
    "        def state_to_dqn_input(self, state)->torch.Tensor:\n",
    "           return torch.from_numpy(state).float().unsqueeze(0).to(device)\n",
    "\n",
    "        #Returns actions for given state\n",
    "        #Epsilon-greedy action selection\n",
    "        def act(self, state, eps=0.):\n",
    "          state = torch.from_numpy(state).float().unsqueeze(0).to(device) # Convert state to tensor HERE\n",
    "          if random.random() > eps:\n",
    "            #--add code here---\n",
    "            self.local_dqn.eval()  # Set to evaluation mode\n",
    "            with torch.no_grad():\n",
    "                action_values = self.local_dqn(state)\n",
    "            self.local_dqn.train()  # Back to training mode\n",
    "            return np.argmax(action_values.cpu().data.numpy())\n",
    "          else:\n",
    "            #--add code here---\n",
    "            return random.choice(np.arange(self.action_space_size))\n",
    "\n",
    "        def step(self, state, action, reward, next_state, done):\n",
    "           # Save experience in replay memory\n",
    "           #----------add code here---\n",
    "           self.memory.append((state, action, reward, next_state, done))\n",
    "\n",
    "           # If enough samples are available in memory, get random subset and learn\n",
    "           self.l_step = (self.l_step + 1) % self.LERN_EVERY\n",
    "           if self.l_step == 0 and len(self.memory) > self.batch_size:\n",
    "                experiences = self.memory.sample() #--add code here---\n",
    "                #--add code here---\n",
    "                self.learn(experiences)  # Call learn method\n",
    "\n",
    "           # Copy local network to target network every UPDATE_EVERY time steps\n",
    "           self.t_step = (self.t_step + 1) % self.UPDATE_EVERY\n",
    "           if self.t_step == 0:\n",
    "              #--add code here---\n",
    "              self.target_dqn.load_state_dict(self.local_dqn.state_dict())\n",
    "\n",
    "        def learn(self, experiences):\n",
    "          q_target_list = []\n",
    "          q_expected_list = []\n",
    "          # Obtain random minibatch of tuples from ReplayMemory\n",
    "          for  state, action, reward, next_state, done in experiences:\n",
    "          \n",
    "             # Convert state, next_state, action abd reward to tensors \n",
    "             state = self.state_to_dqn_input(state) #--add code here---\n",
    "             next_state = self.state_to_dqn_input(next_state) #--add code here---\n",
    "             #action= torch.from_numpy(np.array([action])).long().unsqueeze(0).to(device)\n",
    "             action = torch.tensor([[action]]).long().to(device)  # Double brackets for correct 2D shape\n",
    "             #reward = torch.from_numpy(np.array([reward])).float().to(device)\n",
    "             reward = torch.tensor([reward], dtype=torch.float).to(device).unsqueeze(0) # unsqueeze for consistent dimensions\n",
    "             ## Compute and minimize the loss\n",
    "\n",
    "             ### Extract next maximum estimated value from target network\n",
    "             if(done):\n",
    "               q_target =  reward#--add code here---\n",
    "             else:\n",
    "               q_target=  reward + self.GAMMA * self.target_dqn(next_state).detach().max(1)[0].unsqueeze(0) #--add code here---\n",
    "\n",
    "             ### Calculate expected value from local network\n",
    "             q_local = self.local_dqn(state).gather(1, action) #--add code here---\n",
    "\n",
    "             q_target_list.append(q_target)\n",
    "             q_expected_list.append(q_local)\n",
    "\n",
    "          ### Loss calculation (we used Mean squared error)\n",
    "          #loss = F.mse_loss(torch.cat(q_expected_list), torch.cat(q_target_list))*\n",
    "          # Concatenate along dimension 0 to handle potential 1D tensors\n",
    "          loss = F.mse_loss(torch.cat(q_expected_list, dim=0), torch.cat(q_target_list, dim=0))\n",
    "          self.optimizer.zero_grad()\n",
    "          loss.backward()\n",
    "          self.optimizer.step()\n",
    "\n",
    "\n",
    "        "
   ]
  },
  {
   "cell_type": "code",
   "execution_count": 25,
   "metadata": {
    "collapsed": false
   },
   "outputs": [],
   "source": [
    "def dqn_train(agent, env, n_episodes=300, max_t=1000, eps_start=1.0, eps_end=0.01, eps_decay=0.995):\n",
    "\n",
    "    scores = []                        # list containing scores from each episode\n",
    "    scores_window = deque(maxlen=100)  # last 100 scores\n",
    "    eps = eps_start                    # initialize epsilon\n",
    "\n",
    "    for i_episode in  tqdm(range(1, n_episodes+1)):\n",
    "        state = env.reset()[0]\n",
    "\n",
    "        score = 0\n",
    "        for t in range(max_t):\n",
    "            # select an action\n",
    "            action = agent.act(state, eps) #--add code here---\n",
    "\n",
    "            #apply the selected action\n",
    "            next_state, reward, done, _,_= env.step(action)\n",
    "            \n",
    "            # store the current experience\n",
    "            #--add code here---\n",
    "            agent.step(state, action, reward, next_state, done) \n",
    "\n",
    "            state = next_state\n",
    "            score += reward\n",
    "            if done:\n",
    "                break\n",
    "                \n",
    "        scores_window.append(score)       # save most recent score\n",
    "        scores.append(score)              # save most recent score\n",
    "        eps = max(eps_end, eps_decay*eps) # decrease epsilon\n",
    "\n",
    "        if i_episode % 50 == 0:\n",
    "            print('\\rEpisode {}\\tAverage Score: {:.2f}'.format(i_episode, np.mean(scores_window)))\n",
    "\n",
    "    torch.save(agent.local_dqn.state_dict(), 'checkpoint.pth')\n",
    "    return scores"
   ]
  },
  {
   "cell_type": "code",
   "execution_count": 30,
   "metadata": {
    "colab": {
     "base_uri": "https://localhost:8080/"
    },
    "id": "dgqM0KQY8474",
    "outputId": "ac40bdb2-e745-4806-b9a3-39ba313aa47e"
   },
   "outputs": [
    {
     "name": "stdout",
     "output_type": "stream",
     "text": [
      "(array([ 0.01694709,  0.01730156, -0.01771532, -0.00798169], dtype=float32), {})\n",
      "State shape:  4\n",
      "Number of actions:  2\n"
     ]
    }
   ],
   "source": [
    "env = gym.make('CartPole-v1')\n",
    "print(env.reset())\n",
    "\n",
    "print('State shape: ', env.observation_space.shape[0])\n",
    "print('Number of actions: ', env.action_space.n)"
   ]
  },
  {
   "cell_type": "code",
   "execution_count": 31,
   "metadata": {
    "colab": {
     "base_uri": "https://localhost:8080/",
     "height": 391
    },
    "id": "GQ53wv7a-fEU",
    "outputId": "4e1a7bad-50eb-4014-c152-a8a628891239"
   },
   "outputs": [
    {
     "name": "stderr",
     "output_type": "stream",
     "text": [
      " 17%|█▋        | 52/300 [00:06<00:27,  8.93it/s]"
     ]
    },
    {
     "name": "stdout",
     "output_type": "stream",
     "text": [
      "Episode 50\tAverage Score: 17.44\n"
     ]
    },
    {
     "name": "stderr",
     "output_type": "stream",
     "text": [
      " 34%|███▎      | 101/300 [00:12<00:29,  6.73it/s]"
     ]
    },
    {
     "name": "stdout",
     "output_type": "stream",
     "text": [
      "Episode 100\tAverage Score: 16.97\n"
     ]
    },
    {
     "name": "stderr",
     "output_type": "stream",
     "text": [
      " 50%|█████     | 150/300 [00:25<00:59,  2.52it/s]"
     ]
    },
    {
     "name": "stdout",
     "output_type": "stream",
     "text": [
      "Episode 150\tAverage Score: 22.33\n"
     ]
    },
    {
     "name": "stderr",
     "output_type": "stream",
     "text": [
      " 67%|██████▋   | 200/300 [00:59<01:14,  1.34it/s]"
     ]
    },
    {
     "name": "stdout",
     "output_type": "stream",
     "text": [
      "Episode 200\tAverage Score: 51.50\n"
     ]
    },
    {
     "name": "stderr",
     "output_type": "stream",
     "text": [
      " 83%|████████▎ | 250/300 [02:01<01:03,  1.28s/it]"
     ]
    },
    {
     "name": "stdout",
     "output_type": "stream",
     "text": [
      "Episode 250\tAverage Score: 104.70\n"
     ]
    },
    {
     "name": "stderr",
     "output_type": "stream",
     "text": [
      "100%|██████████| 300/300 [03:24<00:00,  1.46it/s]"
     ]
    },
    {
     "name": "stdout",
     "output_type": "stream",
     "text": [
      "Episode 300\tAverage Score: 154.06\n"
     ]
    },
    {
     "name": "stderr",
     "output_type": "stream",
     "text": [
      "\n"
     ]
    }
   ],
   "source": [
    "agent = DQAgent(state_shape=env.observation_space.shape[0], action_space_size=env.action_space.n, seed=0)\n",
    "scores = dqn_train(agent, env)"
   ]
  },
  {
   "cell_type": "code",
   "execution_count": 32,
   "metadata": {
    "id": "u3kPJmXM4Ss4"
   },
   "outputs": [
    {
     "data": {
      "image/png": "[encoded data removed]",
      "text/plain": [
       "<Figure size 640x480 with 1 Axes>"
      ]
     },
     "metadata": {},
     "output_type": "display_data"
    }
   ],
   "source": [
    "scores = pd.Series(scores, name=\"scores\")\n",
    "scores.describe()\n",
    "fig, ax = plt.subplots(1, 1)\n",
    "_ = scores.plot(ax=ax, label=\"Scores\")\n",
    "_ = (scores.rolling(window=100)\n",
    "           .mean()\n",
    "           .rename(\"Rolling Average\")\n",
    "           .plot(ax=ax))\n",
    "ax.legend()\n",
    "_ = ax.set_xlabel(\"Episode Number\")\n",
    "_ = ax.set_ylabel(\"Score\")"
   ]
  }
 ],
 "metadata": {
  "accelerator": "GPU",
  "colab": {
   "gpuType": "T4",
   "provenance": []
  },
  "kernelspec": {
   "display_name": "AdvancedDL",
   "language": "python",
   "name": "python3"
  },
  "language_info": {
   "codemirror_mode": {
    "name": "ipython",
    "version": 3
   },
   "file_extension": ".py",
   "mimetype": "text/x-python",
   "name": "python",
   "nbconvert_exporter": "python",
   "pygments_lexer": "ipython3",
   "version": "3.10.12"
  }
 },
 "nbformat": 4,
 "nbformat_minor": 0
}
