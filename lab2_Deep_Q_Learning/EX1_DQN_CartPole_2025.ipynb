{
 "nbformat": 4,
 "nbformat_minor": 0,
 "metadata": {
  "colab": {
   "provenance": [],
   "gpuType": "T4"
  },
  "kernelspec": {
   "name": "python3",
   "display_name": "Python 3"
  },
  "language_info": {
   "name": "python"
  },
  "accelerator": "GPU"
 },
 "cells": [
  {
   "cell_type": "code",
   "source": [
    "!pip install gymnasium"
   ],
   "metadata": {
    "colab": {
     "base_uri": "https://localhost:8080/"
    },
    "id": "mYu0OlZ6sK7d",
    "outputId": "24df717b-5fdb-4c5b-a14f-a06e4002aea7",
    "is_executing": true
   },
   "execution_count": null,
   "outputs": []
  },
  {
   "cell_type": "code",
   "source": [
    "import gymnasium as gym\n",
    "import numpy as np\n",
    "import pandas as pd\n",
    "import matplotlib.pyplot as plt\n",
    "from collections import deque\n",
    "import random\n",
    "from tqdm import tqdm\n",
    "\n",
    "import torch\n",
    "from torch import nn\n",
    "import torch.nn.functional as F\n",
    "import torch.optim as optim\n"
   ],
   "metadata": {
    "id": "VpsHzyWmseVk",
    "is_executing": true
   },
   "execution_count": null,
   "outputs": []
  },
  {
   "cell_type": "code",
   "source": [
    "device = torch.device(\"cuda:0\" if torch.cuda.is_available() else \"cpu\")"
   ],
   "metadata": {
    "id": "cQJgkAMMsEoK"
   },
   "execution_count": null,
   "outputs": []
  },
  {
   "cell_type": "code",
   "source": [
    "# Define model\n",
    "class QNetwork(nn.Module):\n",
    "\n",
    "    def __init__(self, state_shape, h1_nodes, action_space_size, seed):\n",
    "        \"\"\" state_shape (int): Dimension of each state\n",
    "            h1_nodes (int): Number of nodes in first hidden layer\n",
    "            action_space_size (int): Dimension of each action\n",
    "            seed (int): Random seed\n",
    "        \"\"\"\n",
    "        super(QNetwork, self).__init__()\n",
    "        self.seed = torch.manual_seed(seed)\n",
    "         ## add three fully connected layers using nn.Linear()\n",
    "         #-----------------add code here-----------------------\n",
    "\n",
    "\n",
    "    def forward(self, state):\n",
    "      # define the forward propagation  by adding the relu() activation function between layers\n",
    "      #-----------------add code here----------------------- \n",
    "      return x"
   ],
   "metadata": {
    "id": "jQk7LBu5s3yo"
   },
   "execution_count": null,
   "outputs": []
  },
  {
   "cell_type": "code",
   "source": [
    "# Define memory for Experience Replay\n",
    "class ReplayMemory():\n",
    "    def __init__(self, maxlen, batch_size):\n",
    "        self.memory = deque([], maxlen=maxlen)\n",
    "        self.batch_size = batch_size\n",
    "\n",
    "    def append(self, experience):\n",
    "        self.memory.append(experience)\n",
    "\n",
    "    def sample(self):\n",
    "        #Randomly sample a batch of experiences from memory \n",
    "        #-----------------add code here-----------------------\n",
    "\n",
    "    def __len__(self):\n",
    "        return len(self.memory)"
   ],
   "metadata": {
    "id": "W2a1w61qtpWV"
   },
   "execution_count": null,
   "outputs": []
  },
  {
   "cell_type": "code",
   "source": [
    "#Define the Deep QLearning Agent\n",
    "class DQAgent():\n",
    "        \"\"\"Interacts with and learns from the environment.\"\"\"\n",
    "\n",
    "        def __init__(self, state_shape, action_space_size, seed, h1_nodes=64, learning_rate=5e-4, replay_memory_size=int(1e5),batch_size=64, UPDATE_EVERY=20, LEARN_EVERY=4,GAMMA=0.99):\n",
    "           \"\"\"Initialize an Agent object. \"\"\"\n",
    "\n",
    "           self.state_shape = state_shape\n",
    "           self.action_space_size = action_space_size\n",
    "           self.seed = random.seed(seed)\n",
    "           self.GAMMA = GAMMA\n",
    "           self.UPDATE_EVERY = UPDATE_EVERY\n",
    "           self.LERN_EVERY = LEARN_EVERY\n",
    "           self.h1_nodes = h1_nodes\n",
    "           self.learning_rate = learning_rate\n",
    "           self.batch_size = batch_size\n",
    "           self.replay_memory_size = replay_memory_size\n",
    "\n",
    "\n",
    "           # Q-Network\n",
    "           # create the local and the target networks\n",
    "           self.local_dqn =  #--add code here---\n",
    "           self.target_dqn =  #--add code here---\n",
    "\n",
    "           self.optimizer = optim.Adam(self.local_dqn.parameters(), lr=self.learning_rate)\n",
    "\n",
    "           # Replay memory\n",
    "           self.memory = ReplayMemory( self.replay_memory_size,self.batch_size)\n",
    "\n",
    "           # Initialize time step (for learn every LEARN_EVERY steps)\n",
    "           self.l_step = 0\n",
    "\n",
    "           # Initialize time step (for updating every UPDATE_EVERY steps)\n",
    "           self.t_step = 0\n",
    "            \n",
    "        def state_to_dqn_input(self, state)->torch.Tensor:\n",
    "           return torch.from_numpy(state).float().unsqueeze(0).to(device)\n",
    "\n",
    "        #Returns actions for given state\n",
    "        #Epsilon-greedy action selection\n",
    "        def act(self, state, eps=0.):\n",
    "          if random.random() > eps:\n",
    "            #--add code here---\n",
    "          else:\n",
    "            #--add code here---\n",
    "\n",
    "        def step(self, state, action, reward, next_state, done):\n",
    "           # Save experience in replay memory\n",
    "           #----------add code here---\n",
    "\n",
    "           # If enough samples are available in memory, get random subset and learn\n",
    "           self.l_step = (self.l_step + 1) % self.LERN_EVERY\n",
    "           if self.l_step == 0 and len(self.memory) > self.batch_size:\n",
    "                experiences = #--add code here---\n",
    "                #--add code here---\n",
    "\n",
    "           # Copy local network to target network every UPDATE_EVERY time steps\n",
    "           self.t_step = (self.t_step + 1) % self.UPDATE_EVERY\n",
    "           if self.t_step == 0:\n",
    "              #--add code here---\n",
    "\n",
    "        def learn(self, experiences):\n",
    "          q_target_list = []\n",
    "          q_expected_list = []\n",
    "          # Obtain random minibatch of tuples from ReplayMemory\n",
    "          for  state, action, reward, next_state, done in experiences:\n",
    "          \n",
    "             # Convert state, next_state, action abd reward to tensors \n",
    "             state =#--add code here---\n",
    "             next_state = #--add code here---\n",
    "             action= torch.from_numpy(np.array([action])).long().unsqueeze(0).to(device)\n",
    "             reward = torch.from_numpy(np.array([reward])).float().to(device)\n",
    "             ## Compute and minimize the loss\n",
    "\n",
    "             ### Extract next maximum estimated value from target network\n",
    "             if(done):\n",
    "               q_target =  #--add code here---\n",
    "             else:\n",
    "               q_target=  #--add code here---\n",
    "\n",
    "             ### Calculate expected value from local network\n",
    "             q_local = #--add code here---\n",
    "\n",
    "             q_target_list.append(q_target)\n",
    "             q_expected_list.append(q_local)\n",
    "\n",
    "          ### Loss calculation (we used Mean squared error)\n",
    "          loss = F.mse_loss(torch.cat(q_expected_list), torch.cat(q_target_list))\n",
    "          self.optimizer.zero_grad()\n",
    "          loss.backward()\n",
    "          self.optimizer.step()\n",
    "\n",
    "\n",
    "        "
   ],
   "metadata": {
    "id": "YbRg16A-uGjZ"
   },
   "execution_count": null,
   "outputs": []
  },
  {
   "cell_type": "code",
   "outputs": [],
   "source": [
    "def dqn_train(agent, n_episodes=300, max_t=1000, eps_start=1.0, eps_end=0.01, eps_decay=0.995):\n",
    "\n",
    "    scores = []                        # list containing scores from each episode\n",
    "    scores_window = deque(maxlen=100)  # last 100 scores\n",
    "    eps = eps_start                    # initialize epsilon\n",
    "\n",
    "    for i_episode in  tqdm(range(1, n_episodes+1)):\n",
    "        state = env.reset()[0]\n",
    "\n",
    "        score = 0\n",
    "        for t in range(max_t):\n",
    "            # select an action\n",
    "            action = #--add code here---\n",
    "\n",
    "            #apply the selected action\n",
    "            next_state, reward, done, _,_=env.step(action)\n",
    "            \n",
    "            # store the current experience\n",
    "            #--add code here---\n",
    "\n",
    "            state = next_state\n",
    "            score += reward\n",
    "            if done:\n",
    "                break\n",
    "                \n",
    "        scores_window.append(score)       # save most recent score\n",
    "        scores.append(score)              # save most recent score\n",
    "        eps = max(eps_end, eps_decay*eps) # decrease epsilon\n",
    "\n",
    "        if i_episode % 50 == 0:\n",
    "            print('\\rEpisode {}\\tAverage Score: {:.2f}'.format(i_episode, np.mean(scores_window)))\n",
    "\n",
    "    torch.save(agent.local_dqn.state_dict(), 'checkpoint.pth')\n",
    "    return scores"
   ],
   "metadata": {
    "collapsed": false
   },
   "execution_count": null
  },
  {
   "cell_type": "code",
   "source": [
    "env = gym.make('CartPole-v1')\n",
    "print(env.reset())\n",
    "\n",
    "print('State shape: ', env.observation_space.shape[0])\n",
    "print('Number of actions: ', env.action_space.n)"
   ],
   "metadata": {
    "colab": {
     "base_uri": "https://localhost:8080/"
    },
    "id": "dgqM0KQY8474",
    "outputId": "ac40bdb2-e745-4806-b9a3-39ba313aa47e"
   },
   "execution_count": null,
   "outputs": []
  },
  {
   "cell_type": "code",
   "source": [
    "agent = DQAgent(state_shape=env.observation_space.shape[0], action_space_size=env.action_space.n, seed=0)\n",
    "scores = dqn_train(agent)"
   ],
   "metadata": {
    "colab": {
     "base_uri": "https://localhost:8080/",
     "height": 391
    },
    "id": "GQ53wv7a-fEU",
    "outputId": "4e1a7bad-50eb-4014-c152-a8a628891239"
   },
   "execution_count": null,
   "outputs": []
  },
  {
   "cell_type": "code",
   "source": [
    "scores = pd.Series(scores, name=\"scores\")\n",
    "scores.describe()\n",
    "fig, ax = plt.subplots(1, 1)\n",
    "_ = scores.plot(ax=ax, label=\"Scores\")\n",
    "_ = (scores.rolling(window=100)\n",
    "           .mean()\n",
    "           .rename(\"Rolling Average\")\n",
    "           .plot(ax=ax))\n",
    "ax.legend()\n",
    "_ = ax.set_xlabel(\"Episode Number\")\n",
    "_ = ax.set_ylabel(\"Score\")"
   ],
   "metadata": {
    "id": "u3kPJmXM4Ss4"
   },
   "execution_count": null,
   "outputs": []
  }
 ]
}
